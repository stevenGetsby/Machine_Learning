{
 "cells": [
  {
   "cell_type": "code",
   "execution_count": 17,
   "id": "1a015bfc",
   "metadata": {},
   "outputs": [],
   "source": [
    "import numpy as np\n",
    "def linear_loss(X,y,w,b):\n",
    "    num_train=X.shape[0]\n",
    "    num_feature=X.shape[1]\n",
    "    \n",
    "    y_hat=np.dot(X,w)+b\n",
    "    loss=np.sum((y_hat-y)**2)/num_train\n",
    "    dw=np.dot(X.T,(y_hat-y))/num_train\n",
    "    db=np.sum((y_hat-y))/num_train\n",
    "    \n",
    "    return y_hat,loss,dw,db"
   ]
  },
  {
   "cell_type": "code",
   "execution_count": 18,
   "id": "441f3b73",
   "metadata": {},
   "outputs": [],
   "source": [
    "def initialize_params(dims):\n",
    "    w=np.zeros((dims,1))\n",
    "    b=0\n",
    "    \n",
    "    return w,b"
   ]
  },
  {
   "cell_type": "code",
   "execution_count": 27,
   "id": "f5a1c56d",
   "metadata": {},
   "outputs": [],
   "source": [
    "def linear_train(X,y,learning_rate=0.01,epochs=10000):\n",
    "    loss_his=[]\n",
    "    \n",
    "    w,b=initialize_params(X.shape[1])\n",
    "    for i in range(1,epochs):\n",
    "        y_hat,loss,dw,db=linear_loss(X,y,w,b)\n",
    "        w+=-learning_rate*dw\n",
    "        b+=-learning_rate*db\n",
    "        \n",
    "        loss_his.append(loss)\n",
    "        \n",
    "        if i%10000==0:\n",
    "            print(\"epoch %d loss %f\"%(i,loss))\n",
    "        \n",
    "        params={\n",
    "            'w':w,\n",
    "            'b':b\n",
    "        }\n",
    "        \n",
    "        grads={\n",
    "            'dw':dw,\n",
    "            'db':db\n",
    "        }\n",
    "        \n",
    "        return loss_his,params,grads"
   ]
  },
  {
   "cell_type": "code",
   "execution_count": 28,
   "id": "b317d9b6",
   "metadata": {},
   "outputs": [],
   "source": [
    "from sklearn.datasets import load_diabetes\n",
    "from sklearn.utils import shuffle\n",
    "\n",
    "diabetes=load_diabetes()"
   ]
  },
  {
   "cell_type": "code",
   "execution_count": 31,
   "id": "b53f8503",
   "metadata": {},
   "outputs": [
    {
     "name": "stdout",
     "output_type": "stream",
     "text": [
      "data_shape\n"
     ]
    }
   ],
   "source": [
    "data,target=diabetes.data,diabetes.target\n",
    "X,y=shuffle(data,target,random_state=13)\n",
    "offset=int(X.shape[0]*0.8)\n",
    "X_train,y_train=X[:offset],y[:offset]\n",
    "X_test,y_test=X[offset:],y[offset:]\n",
    "y_train=y_train.reshape((-1,1))\n",
    "y_test=y_test.reshape((-1,1))\n",
    "print(\"data_shape\")"
   ]
  },
  {
   "cell_type": "code",
   "execution_count": 33,
   "id": "168b9275",
   "metadata": {},
   "outputs": [
    {
     "name": "stdout",
     "output_type": "stream",
     "text": [
      "{'w': array([[ 0.00855811],\n",
      "       [ 0.00075944],\n",
      "       [ 0.01655004],\n",
      "       [ 0.01568291],\n",
      "       [ 0.00710851],\n",
      "       [ 0.00466418],\n",
      "       [-0.01434783],\n",
      "       [ 0.01624442],\n",
      "       [ 0.0206719 ],\n",
      "       [ 0.01195389]]), 'b': 1.4996317280453257}\n"
     ]
    }
   ],
   "source": [
    "loss,params,grads=linear_train(X_train,y_train,0.01,200000)\n",
    "print(params)"
   ]
  },
  {
   "cell_type": "code",
   "execution_count": 34,
   "id": "f4e720d5",
   "metadata": {},
   "outputs": [
    {
     "name": "stdout",
     "output_type": "stream",
     "text": [
      "Mean squared error: 3371.88\n",
      "R Square score: 0.54\n"
     ]
    }
   ],
   "source": [
    "from sklearn import linear_model\n",
    "from sklearn.metrics import mean_squared_error,r2_score\n",
    "\n",
    "regr=linear_model.LinearRegression()\n",
    "regr.fit(X_train,y_train)\n",
    "y_pred=regr.predict(X_test)\n",
    "print(\"Mean squared error: %.2f\"% mean_squared_error(y_test,y_pred))\n",
    "print('R Square score: %.2f'% r2_score(y_test,y_pred))"
   ]
  },
  {
   "cell_type": "code",
   "execution_count": null,
   "id": "b4372c92",
   "metadata": {},
   "outputs": [],
   "source": []
  }
 ],
 "metadata": {
  "kernelspec": {
   "display_name": "Python 3 (ipykernel)",
   "language": "python",
   "name": "python3"
  },
  "language_info": {
   "codemirror_mode": {
    "name": "ipython",
    "version": 3
   },
   "file_extension": ".py",
   "mimetype": "text/x-python",
   "name": "python",
   "nbconvert_exporter": "python",
   "pygments_lexer": "ipython3",
   "version": "3.9.12"
  }
 },
 "nbformat": 4,
 "nbformat_minor": 5
}
