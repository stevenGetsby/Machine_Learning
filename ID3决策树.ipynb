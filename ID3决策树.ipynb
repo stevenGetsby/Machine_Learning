{
 "cells": [
  {
   "cell_type": "code",
   "execution_count": 2,
   "id": "69e469d7",
   "metadata": {},
   "outputs": [],
   "source": [
    "import numpy as np\n",
    "\n",
    "from math import log\n",
    "\n",
    "def entropy(ele):\n",
    "    ele=ele.tolist()\n",
    "    probs=[ele.count(i)/len(ele) for i in set(ele)]\n",
    "    \n",
    "    entropy=-sum([prob*log(prob,2) for prob in probs])\n",
    "    \n",
    "    return entropy"
   ]
  },
  {
   "cell_type": "code",
   "execution_count": 3,
   "id": "79a362a7",
   "metadata": {},
   "outputs": [
    {
     "data": {
      "text/html": [
       "<div>\n",
       "<style scoped>\n",
       "    .dataframe tbody tr th:only-of-type {\n",
       "        vertical-align: middle;\n",
       "    }\n",
       "\n",
       "    .dataframe tbody tr th {\n",
       "        vertical-align: top;\n",
       "    }\n",
       "\n",
       "    .dataframe thead th {\n",
       "        text-align: right;\n",
       "    }\n",
       "</style>\n",
       "<table border=\"1\" class=\"dataframe\">\n",
       "  <thead>\n",
       "    <tr style=\"text-align: right;\">\n",
       "      <th></th>\n",
       "      <th>humility</th>\n",
       "      <th>outlook</th>\n",
       "      <th>play</th>\n",
       "      <th>temp</th>\n",
       "      <th>windy</th>\n",
       "    </tr>\n",
       "  </thead>\n",
       "  <tbody>\n",
       "    <tr>\n",
       "      <th>0</th>\n",
       "      <td>high</td>\n",
       "      <td>sunny</td>\n",
       "      <td>no</td>\n",
       "      <td>hot</td>\n",
       "      <td>False</td>\n",
       "    </tr>\n",
       "    <tr>\n",
       "      <th>1</th>\n",
       "      <td>high</td>\n",
       "      <td>sunny</td>\n",
       "      <td>no</td>\n",
       "      <td>hot</td>\n",
       "      <td>True</td>\n",
       "    </tr>\n",
       "    <tr>\n",
       "      <th>2</th>\n",
       "      <td>high</td>\n",
       "      <td>overcast</td>\n",
       "      <td>yes</td>\n",
       "      <td>hot</td>\n",
       "      <td>False</td>\n",
       "    </tr>\n",
       "    <tr>\n",
       "      <th>3</th>\n",
       "      <td>high</td>\n",
       "      <td>rainy</td>\n",
       "      <td>yes</td>\n",
       "      <td>mild</td>\n",
       "      <td>False</td>\n",
       "    </tr>\n",
       "    <tr>\n",
       "      <th>4</th>\n",
       "      <td>normal</td>\n",
       "      <td>rainy</td>\n",
       "      <td>yes</td>\n",
       "      <td>cool</td>\n",
       "      <td>False</td>\n",
       "    </tr>\n",
       "  </tbody>\n",
       "</table>\n",
       "</div>"
      ],
      "text/plain": [
       "  humility   outlook play  temp  windy\n",
       "0     high     sunny   no   hot  False\n",
       "1     high     sunny   no   hot   True\n",
       "2     high  overcast  yes   hot  False\n",
       "3     high     rainy  yes  mild  False\n",
       "4   normal     rainy  yes  cool  False"
      ]
     },
     "execution_count": 3,
     "metadata": {},
     "output_type": "execute_result"
    }
   ],
   "source": [
    "import pandas as pd\n",
    "\n",
    "df=pd.read_csv('example_data.csv')\n",
    "df.head()"
   ]
  },
  {
   "cell_type": "code",
   "execution_count": 5,
   "id": "8dac52ef",
   "metadata": {},
   "outputs": [
    {
     "data": {
      "text/plain": [
       "0.9402859586706309"
      ]
     },
     "execution_count": 5,
     "metadata": {},
     "output_type": "execute_result"
    }
   ],
   "source": [
    "entropy_D=entropy(df['play'])\n",
    "entropy_D"
   ]
  },
  {
   "cell_type": "code",
   "execution_count": 6,
   "id": "6109a6ed",
   "metadata": {},
   "outputs": [],
   "source": [
    "def df_split(df,col):\n",
    "    unique_col_val=df[col].unique()\n",
    "    res_dict={elem:pd.DataFrame for elem in unique_col_val}\n",
    "    for key in res_dict.keys():\n",
    "        res_dict[key]=df[df[col]==key]\n",
    "    return res_dict"
   ]
  },
  {
   "cell_type": "code",
   "execution_count": 7,
   "id": "977a8cfe",
   "metadata": {},
   "outputs": [
    {
     "data": {
      "text/html": [
       "<div>\n",
       "<style scoped>\n",
       "    .dataframe tbody tr th:only-of-type {\n",
       "        vertical-align: middle;\n",
       "    }\n",
       "\n",
       "    .dataframe tbody tr th {\n",
       "        vertical-align: top;\n",
       "    }\n",
       "\n",
       "    .dataframe thead th {\n",
       "        text-align: right;\n",
       "    }\n",
       "</style>\n",
       "<table border=\"1\" class=\"dataframe\">\n",
       "  <thead>\n",
       "    <tr style=\"text-align: right;\">\n",
       "      <th></th>\n",
       "      <th>humility</th>\n",
       "      <th>outlook</th>\n",
       "      <th>play</th>\n",
       "      <th>temp</th>\n",
       "      <th>windy</th>\n",
       "    </tr>\n",
       "  </thead>\n",
       "  <tbody>\n",
       "    <tr>\n",
       "      <th>0</th>\n",
       "      <td>high</td>\n",
       "      <td>sunny</td>\n",
       "      <td>no</td>\n",
       "      <td>hot</td>\n",
       "      <td>False</td>\n",
       "    </tr>\n",
       "    <tr>\n",
       "      <th>1</th>\n",
       "      <td>high</td>\n",
       "      <td>sunny</td>\n",
       "      <td>no</td>\n",
       "      <td>hot</td>\n",
       "      <td>True</td>\n",
       "    </tr>\n",
       "    <tr>\n",
       "      <th>2</th>\n",
       "      <td>high</td>\n",
       "      <td>overcast</td>\n",
       "      <td>yes</td>\n",
       "      <td>hot</td>\n",
       "      <td>False</td>\n",
       "    </tr>\n",
       "    <tr>\n",
       "      <th>12</th>\n",
       "      <td>normal</td>\n",
       "      <td>overcast</td>\n",
       "      <td>yes</td>\n",
       "      <td>hot</td>\n",
       "      <td>False</td>\n",
       "    </tr>\n",
       "  </tbody>\n",
       "</table>\n",
       "</div>"
      ],
      "text/plain": [
       "   humility   outlook play temp  windy\n",
       "0      high     sunny   no  hot  False\n",
       "1      high     sunny   no  hot   True\n",
       "2      high  overcast  yes  hot  False\n",
       "12   normal  overcast  yes  hot  False"
      ]
     },
     "execution_count": 7,
     "metadata": {},
     "output_type": "execute_result"
    }
   ],
   "source": [
    "x=df_split(df,'temp')\n",
    "x['hot']"
   ]
  },
  {
   "cell_type": "code",
   "execution_count": 46,
   "id": "2d586e0c",
   "metadata": {},
   "outputs": [],
   "source": [
    "def choose_best_feature(df,label):\n",
    "    entropy_D=entropy(df[label])\n",
    "    \n",
    "    cols=[col for col in df.columns]\n",
    "    cols.remove(label)\n",
    "    max_value=-999\n",
    "    best_feature,max_splited=None,None\n",
    "    \n",
    "    for col in cols:\n",
    "        splited_set=df_split(df,col)\n",
    "        entropy_DA=0\n",
    "        \n",
    "        for subset_col,subset in splited_set.items():\n",
    "            entropy_Di=entropy(subset[label])\n",
    "            entropy_DA+=len(subset)/len(df)*entropy_Di\n",
    "        \n",
    "        info_gain=entropy_D-entropy_DA\n",
    "        \n",
    "        if info_gain>max_value:\n",
    "            max_value,best_feature=info_gain,col\n",
    "            max_splited=splited_set\n",
    "    \n",
    "    return max_value,best_feature,max_splited"
   ]
  },
  {
   "cell_type": "code",
   "execution_count": 47,
   "id": "6e6f7850",
   "metadata": {},
   "outputs": [],
   "source": [
    "# ID3算法类\n",
    "class ID3Tree:\n",
    "    # 定义决策树结点类\n",
    "    class TreeNode:\n",
    "        # 定义树结点\n",
    "        def __init__(self, name):\n",
    "            self.name = name\n",
    "            self.connections = {}\n",
    "        # 定义树连接\n",
    "        def connect(self, label, node):\n",
    "            self.connections[label] = node\n",
    "    # 定义全局变量，包括数据集、特征集、标签和根结点\n",
    "    def __init__(self, df, label):\n",
    "        self.columns = df.columns\n",
    "        self.df = df\n",
    "        self.label = label\n",
    "        self.root = self.TreeNode(\"Root\")\n",
    "    # 构建树的调用\n",
    "    def construct_tree(self):\n",
    "        self.construct(self.root, \"\", self.df, self.columns)\n",
    "    # 决策树构建方法\n",
    "    def construct(self, parent_node, parent_label, sub_df, columns):\n",
    "        # 选择最优特征\n",
    "        max_value, best_feature, max_splited = choose_best_feature(sub_df[columns], self.label)\n",
    "        # 如果选不到最优特征，则构造单结点树\n",
    "        if not best_feature:\n",
    "            node = self.TreeNode(sub_df[self.label].iloc[0])\n",
    "            parent_node.connect(parent_label, node)\n",
    "            return\n",
    "        # 根据最优特征以及子结点构建树\n",
    "        node = self.TreeNode(best_feature)\n",
    "        parent_node.connect(parent_label, node)\n",
    "        # 以A-Ag为新的特征集\n",
    "        new_columns = [col for col in columns if col != best_feature]\n",
    "        # 递归地构造决策树\n",
    "        for splited_value, splited_data in max_splited.items():\n",
    "            self.construct(node, splited_value, splited_data, new_columns)"
   ]
  },
  {
   "cell_type": "code",
   "execution_count": 48,
   "id": "b88bce08",
   "metadata": {},
   "outputs": [],
   "source": [
    "# 创建ID3决策树实例\n",
    "id3_tree = ID3Tree(df, 'play')\n",
    "# 构造ID3决策树\n",
    "id3_tree.construct_tree()"
   ]
  },
  {
   "cell_type": "code",
   "execution_count": 45,
   "id": "e598b80b",
   "metadata": {},
   "outputs": [
    {
     "data": {
      "text/plain": [
       "['humility', 'outlook', 'temp', 'windy']"
      ]
     },
     "execution_count": 45,
     "metadata": {},
     "output_type": "execute_result"
    }
   ],
   "source": []
  },
  {
   "cell_type": "code",
   "execution_count": 26,
   "id": "866b08c0",
   "metadata": {},
   "outputs": [
    {
     "data": {
      "text/plain": [
       "<__main__.ID3Tree at 0x1a9d9785ee0>"
      ]
     },
     "execution_count": 26,
     "metadata": {},
     "output_type": "execute_result"
    }
   ],
   "source": []
  },
  {
   "cell_type": "code",
   "execution_count": null,
   "id": "ab1df008",
   "metadata": {},
   "outputs": [],
   "source": []
  }
 ],
 "metadata": {
  "kernelspec": {
   "display_name": "Python 3 (ipykernel)",
   "language": "python",
   "name": "python3"
  },
  "language_info": {
   "codemirror_mode": {
    "name": "ipython",
    "version": 3
   },
   "file_extension": ".py",
   "mimetype": "text/x-python",
   "name": "python",
   "nbconvert_exporter": "python",
   "pygments_lexer": "ipython3",
   "version": "3.9.12"
  }
 },
 "nbformat": 4,
 "nbformat_minor": 5
}
