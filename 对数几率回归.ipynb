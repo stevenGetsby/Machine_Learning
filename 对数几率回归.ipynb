{
 "cells": [
  {
   "cell_type": "code",
   "execution_count": 18,
   "id": "ea97deaa",
   "metadata": {},
   "outputs": [],
   "source": [
    "import numpy as np\n",
    "def sigmoid(x):\n",
    "    \n",
    "    z=1/(1+np.exp(-x))\n",
    "    \n",
    "    return z\n",
    "\n",
    "def initialize_params(dims):\n",
    "    w=np.zeros((dims,1))\n",
    "    b=0\n",
    "    return w,b"
   ]
  },
  {
   "cell_type": "code",
   "execution_count": 19,
   "id": "bfa93bee",
   "metadata": {},
   "outputs": [],
   "source": [
    "def logistic(X,y,w,b):\n",
    "    num_train=X.shape[0]\n",
    "    num_feature=X.shape[1]\n",
    "    \n",
    "    a=sigmoid(np.dot(X,w)+b)\n",
    "    cost=-1/num_train*np.sum(y*np.log(a)+(1-y)*np.log(a))\n",
    "    dw=np.dot(X.T,(a-y))/num_train\n",
    "    db=np.sum(a-y)/num_train\n",
    "    \n",
    "    cost=np.squeeze(cost)\n",
    "    return a,cost,dw,db"
   ]
  },
  {
   "cell_type": "code",
   "execution_count": 25,
   "id": "d5b0a294",
   "metadata": {},
   "outputs": [],
   "source": [
    "def logistic_train(X,y,learning_rate,epochs):\n",
    "    w,b=initialize_params(X.shape[1])\n",
    "    cost_list=[]\n",
    "    \n",
    "    for i in range(epochs):\n",
    "        a,cost,dw,db=logistic(X,y,w,b)\n",
    "        w=w-learning_rate*dw\n",
    "        b=b-learning_rate*db\n",
    "        \n",
    "        if i%100==0:\n",
    "            cost_list.append(cost)\n",
    "            print('epoch %d cost %f'%(i,cost))\n",
    "    \n",
    "    params={\n",
    "        'w':w,\n",
    "        'b':b\n",
    "    }\n",
    "    grads={\n",
    "        'dw':dw,\n",
    "        'db':db\n",
    "    }\n",
    "    return cost_list,params,grads    "
   ]
  },
  {
   "cell_type": "code",
   "execution_count": 21,
   "id": "087959cc",
   "metadata": {},
   "outputs": [],
   "source": [
    "def predict(X,params):\n",
    "    y_pred=sigmoid(np.dot(X,params['w'])+params['b'])\n",
    "    for i in range(len(y_pred)):\n",
    "        if y_pred[i]>0.5:\n",
    "            y_pred[i]=1\n",
    "        else:\n",
    "            y_pred[i]=0\n",
    "    return y_pred"
   ]
  },
  {
   "cell_type": "code",
   "execution_count": 22,
   "id": "d3dd5278",
   "metadata": {},
   "outputs": [
    {
     "data": {
      "image/png": "[encoded data removed]",
      "text/plain": [
       "<Figure size 432x288 with 1 Axes>"
      ]
     },
     "metadata": {
      "needs_background": "light"
     },
     "output_type": "display_data"
    }
   ],
   "source": [
    "# 导入matplotlib绘图库\n",
    "import matplotlib.pyplot as plt\n",
    "# 导入生成分类数据函数\n",
    "from sklearn.datasets import make_classification\n",
    "# 生成100×2的模拟二分类数据集\n",
    "X, labels = make_classification(\n",
    "    n_samples=100,\n",
    "    n_features=2,\n",
    "    n_redundant=0,\n",
    "    n_informative=2,\n",
    "    random_state=1,\n",
    "    n_clusters_per_class=2)\n",
    "# 设置随机数种子\n",
    "rng = np.random.RandomState(2)\n",
    "# 对生成的特征数据添加一组均匀分布噪声\n",
    "X += 2 * rng.uniform(size=X.shape)\n",
    "# 标签类别数\n",
    "unique_labels = set(labels)\n",
    "# 根据标签类别数设置颜色\n",
    "colors = plt.cm.Spectral(np.linspace(0, 1, len(unique_labels)))\n",
    "# 绘制模拟数据的散点图\n",
    "for k,col in zip(unique_labels, colors):\n",
    "    x_k = X[labels==k]\n",
    "    plt.plot(x_k[:,0], x_k[:,1],'o',\n",
    "             markerfacecolor=col,\n",
    "             markeredgecolor='k',\n",
    "             markersize=14)\n",
    "plt.title('Simulated binary data set')\n",
    "plt.show();"
   ]
  },
  {
   "cell_type": "code",
   "execution_count": 23,
   "id": "249021ad",
   "metadata": {},
   "outputs": [
    {
     "name": "stdout",
     "output_type": "stream",
     "text": [
      "X_train = (90, 2)\n",
      "X_test = (10, 2)\n",
      "y_train = (90, 1)\n",
      "y_test = (10, 1)\n"
     ]
    }
   ],
   "source": [
    "# 按9∶1简单划分训练集与测试集\n",
    "offset = int(X.shape[0] * 0.9)\n",
    "X_train, y_train = X[:offset], labels[:offset]\n",
    "X_test, y_test = X[offset:], labels[offset:]\n",
    "y_train = y_train.reshape((-1,1))\n",
    "y_test = y_test.reshape((-1,1))\n",
    "print('X_train =', X_train.shape)\n",
    "print('X_test =', X_test.shape)\n",
    "print('y_train =', y_train.shape)\n",
    "print('y_test =', y_test.shape)"
   ]
  },
  {
   "cell_type": "code",
   "execution_count": 26,
   "id": "2cdc742f",
   "metadata": {},
   "outputs": [
    {
     "name": "stdout",
     "output_type": "stream",
     "text": [
      "epoch 0 cost 0.693147\n",
      "epoch 100 cost 0.610314\n",
      "epoch 200 cost 0.607530\n",
      "epoch 300 cost 0.629112\n",
      "epoch 400 cost 0.658110\n",
      "epoch 500 cost 0.688746\n",
      "epoch 600 cost 0.718932\n",
      "epoch 700 cost 0.747930\n",
      "epoch 800 cost 0.775525\n",
      "epoch 900 cost 0.801713\n",
      "{'w': array([[ 1.55740577],\n",
      "       [-0.46456883]]), 'b': -0.5944518853151362}\n",
      "[[0.]\n",
      " [1.]\n",
      " [1.]\n",
      " [0.]\n",
      " [1.]\n",
      " [1.]\n",
      " [0.]\n",
      " [0.]\n",
      " [1.]\n",
      " [0.]]\n"
     ]
    }
   ],
   "source": [
    "# 执行对数几率回归模型训练\n",
    "cost_list, params, grads = logistic_train(X_train, y_train, 0.01, 1000)\n",
    "# 打印训练好的模型参数\n",
    "print(params)\n",
    "# 基于训练参数对测试集进行预测\n",
    "y_pred = predict(X_test, params)\n",
    "print(y_pred)"
   ]
  },
  {
   "cell_type": "code",
   "execution_count": 27,
   "id": "d8e2e77e",
   "metadata": {},
   "outputs": [
    {
     "name": "stdout",
     "output_type": "stream",
     "text": [
      "              precision    recall  f1-score   support\n",
      "\n",
      "           0       1.00      1.00      1.00         5\n",
      "           1       1.00      1.00      1.00         5\n",
      "\n",
      "    accuracy                           1.00        10\n",
      "   macro avg       1.00      1.00      1.00        10\n",
      "weighted avg       1.00      1.00      1.00        10\n",
      "\n"
     ]
    }
   ],
   "source": [
    "# 导入classification_report模块\n",
    "from sklearn.metrics import classification_report\n",
    "# 打印测试集分类预测评估报告\n",
    "print(classification_report(y_test, y_pred))"
   ]
  },
  {
   "cell_type": "code",
   "execution_count": 29,
   "id": "88ff255d",
   "metadata": {},
   "outputs": [
    {
     "data": {
      "image/png": "[encoded data removed]",
      "text/plain": [
       "<Figure size 432x288 with 1 Axes>"
      ]
     },
     "metadata": {
      "needs_background": "light"
     },
     "output_type": "display_data"
    }
   ],
   "source": [
    "### 绘制对数几率回归分类决策边界\n",
    "def plot_decision_boundary(X_train, y_train, params):\n",
    "    '''\n",
    "    输入：\n",
    "    X_train: 训练集输入\n",
    "    y_train: 训练集标签\n",
    "    params：训练好的模型参数\n",
    "    输出：\n",
    "    分类决策边界图\n",
    "    '''\n",
    "    # 训练样本量\n",
    "    n = X_train.shape[0]\n",
    "    # 初始化类别坐标点列表\n",
    "    xcord1 = []\n",
    "    ycord1 = []\n",
    "    xcord2 = []\n",
    "    ycord2 = []\n",
    "    # 获取两类坐标点并存入列表\n",
    "    for i in range(n):\n",
    "        if y_train[i] == 1:\n",
    "            xcord1.append(X_train[i][0])\n",
    "            ycord1.append(X_train[i][1])\n",
    "        else:\n",
    "            xcord2.append(X_train[i][0])\n",
    "            ycord2.append(X_train[i][1])\n",
    "    # 创建绘图\n",
    "    fig = plt.figure()\n",
    "    ax = fig.add_subplot(111)\n",
    "    # 绘制两类散点，以不同颜色表示\n",
    "    ax.scatter(xcord1, ycord1,s=32, c='red')\n",
    "    ax.scatter(xcord2, ycord2, s=32, c='green')\n",
    "    # 取值范围\n",
    "    x = np.arange(-1.5, 3, 0.1)\n",
    "    # 分类决策边界公式\n",
    "    y = (-params['b'] - params['w'][0] * x) / params['w'][1]\n",
    "    # 绘图\n",
    "    ax.plot(x, y)\n",
    "    plt.xlabel('X1')\n",
    "    plt.ylabel('X2')\n",
    "    plt.show()\n",
    "plot_decision_boundary(X_train, y_train, params)"
   ]
  },
  {
   "cell_type": "code",
   "execution_count": 30,
   "id": "3607b0b2",
   "metadata": {},
   "outputs": [
    {
     "name": "stdout",
     "output_type": "stream",
     "text": [
      "[0 1 1 0 1 1 0 0 1 0]\n"
     ]
    },
    {
     "name": "stderr",
     "output_type": "stream",
     "text": [
      "D:\\Anaconda\\envs\\Research\\lib\\site-packages\\sklearn\\utils\\validation.py:993: DataConversionWarning: A column-vector y was passed when a 1d array was expected. Please change the shape of y to (n_samples, ), for example using ravel().\n",
      "  y = column_or_1d(y, warn=True)\n"
     ]
    }
   ],
   "source": [
    "# 导入对数几率回归模块\n",
    "from sklearn.linear_model import LogisticRegression\n",
    "# 拟合训练集\n",
    "clf = LogisticRegression(random_state=0).fit(X_train, y_train)\n",
    "# 预测测试集\n",
    "y_pred = clf.predict(X_test)\n",
    "# 打印预测结果\n",
    "print(y_pred)"
   ]
  },
  {
   "cell_type": "code",
   "execution_count": null,
   "id": "b085c670",
   "metadata": {},
   "outputs": [],
   "source": []
  }
 ],
 "metadata": {
  "kernelspec": {
   "display_name": "Python 3 (ipykernel)",
   "language": "python",
   "name": "python3"
  },
  "language_info": {
   "codemirror_mode": {
    "name": "ipython",
    "version": 3
   },
   "file_extension": ".py",
   "mimetype": "text/x-python",
   "name": "python",
   "nbconvert_exporter": "python",
   "pygments_lexer": "ipython3",
   "version": "3.9.12"
  }
 },
 "nbformat": 4,
 "nbformat_minor": 5
}
