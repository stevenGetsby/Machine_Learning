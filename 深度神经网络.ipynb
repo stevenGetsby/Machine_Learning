{
 "cells": [
  {
   "cell_type": "code",
   "execution_count": 112,
   "id": "2851c4e2",
   "metadata": {},
   "outputs": [],
   "source": [
    "def layer_sizes(X,Y):\n",
    "    n_x=X.shape[0]\n",
    "    n_h=4\n",
    "    n_y=Y.shape[0]\n",
    "    return (n_x,n_h,n_y)"
   ]
  },
  {
   "cell_type": "code",
   "execution_count": 113,
   "id": "9b3cb76a",
   "metadata": {},
   "outputs": [],
   "source": [
    "def sigmoid(x):\n",
    "    return 1.0/(1+np.exp(-x))"
   ]
  },
  {
   "cell_type": "code",
   "execution_count": 114,
   "id": "5e46273a",
   "metadata": {},
   "outputs": [],
   "source": [
    "def initialize_parameters(n_x,n_h,n_y):\n",
    "    w1=np.random.randn(n_h,n_x)*0.01\n",
    "    b1=np.zeros((n_h,1))\n",
    "    w2=np.random.randn(n_y,n_h)*0.01\n",
    "    b2=np.zeros((n_y,1))\n",
    "    \n",
    "    parameters={\n",
    "        \"w1\":w1,\n",
    "        \"b1\":b1,\n",
    "        \"w2\":w2,\n",
    "        \"b2\":b2\n",
    "    }\n",
    "    \n",
    "    return parameters"
   ]
  },
  {
   "cell_type": "code",
   "execution_count": 115,
   "id": "9e1b3e8b",
   "metadata": {},
   "outputs": [],
   "source": [
    "def forward_propagation(X,parameters):\n",
    "    w1=parameters[\"w1\"]\n",
    "    b1=parameters[\"b1\"]\n",
    "    w2=parameters[\"w2\"]\n",
    "    b2=parameters[\"b2\"]\n",
    "    \n",
    "    Z1=np.dot(w1,X)+b1\n",
    "    A1=np.tanh(Z1)\n",
    "    Z2=np.dot(w2,A1)+b2\n",
    "    A2=sigmoid(Z2)\n",
    "    \n",
    "    cache={\n",
    "        \"Z1\":Z1,\n",
    "        \"A1\":A1,\n",
    "        \"Z2\":Z2,\n",
    "        \"A2\":A2\n",
    "    }\n",
    "    \n",
    "    return A2,cache"
   ]
  },
  {
   "cell_type": "code",
   "execution_count": 116,
   "id": "338493ee",
   "metadata": {},
   "outputs": [],
   "source": [
    "def compute_cost(A2,Y):\n",
    "    m=Y.shape[1]\n",
    "    logprobs=np.multiply(np.log(A2),Y)+np.multiply(np.log(1-A2),1-Y)\n",
    "    cost=-1/m*np.sum(logprobs)\n",
    "    \n",
    "    cost=np.squeeze(cost)\n",
    "    \n",
    "    return cost"
   ]
  },
  {
   "cell_type": "code",
   "execution_count": 117,
   "id": "4abf04a3",
   "metadata": {},
   "outputs": [],
   "source": [
    "def backward_propagation(parameters,cache,X,Y):\n",
    "    m=X.shape[1]\n",
    "    \n",
    "    w1=parameters[\"w1\"]\n",
    "    w2=parameters[\"w2\"]\n",
    "    \n",
    "    A1=cache[\"A1\"]\n",
    "    A2=cache[\"A2\"]\n",
    "    \n",
    "    dZ2=A2-Y\n",
    "    dW2=1/m*np.dot(dZ2,A1.T)\n",
    "    db2=1/m*np.sum(dZ2,axis=1,keepdims=True)\n",
    "    dZ1=np.dot(w2.T,dZ2)*(1-np.power(A1,2))\n",
    "    dW1=1/m*np.dot(dZ1,X.T)\n",
    "    db1=1/m*np.sum(dZ1,axis=1,keepdims=True)\n",
    "    \n",
    "    grads={\n",
    "        \"dw1\":dW1,\n",
    "        \"db1\":db1,\n",
    "        \"dw2\":dW2,\n",
    "        \"db2\":db2\n",
    "    }\n",
    "    \n",
    "    return grads"
   ]
  },
  {
   "cell_type": "code",
   "execution_count": 118,
   "id": "5562e12c",
   "metadata": {},
   "outputs": [],
   "source": [
    "def update_parameters(parameters,grads,learning_rate=1.2):\n",
    "    w1=parameters['w1']\n",
    "    b1=parameters['b1']\n",
    "    w2=parameters['w2']\n",
    "    b2=parameters['b2']\n",
    "    \n",
    "    dw1=grads['dw1']\n",
    "    db1=grads['db1']\n",
    "    dw2=grads['dw2']\n",
    "    db2=grads['db2']\n",
    "    \n",
    "    w1-=dw1*learning_rate\n",
    "    b1-=db1*learning_rate\n",
    "    w2-=dw2*learning_rate\n",
    "    b2-=db2*learning_rate\n",
    "    \n",
    "    parameters={\n",
    "        \"w1\":w1,\n",
    "        \"b1\":b1,\n",
    "        \"w2\":w2,\n",
    "        \"b2\":b2,\n",
    "    }\n",
    "    \n",
    "    return parameters"
   ]
  },
  {
   "cell_type": "code",
   "execution_count": 119,
   "id": "c8a863ef",
   "metadata": {},
   "outputs": [],
   "source": [
    "def nn_model(X,Y,n_h,num_iterations=10000,print_cost=False):\n",
    "    np.random.seed(3)\n",
    "    \n",
    "    n_x=layer_sizes(X,Y)[0]\n",
    "    n_y=layer_sizes(X,Y)[2]\n",
    "    \n",
    "    parameters=initialize_parameters(n_x,n_h,n_y)\n",
    "    w1=parameters[\"w1\"]\n",
    "    w2=parameters[\"w2\"]\n",
    "    b1=parameters[\"b1\"]\n",
    "    b2=parameters[\"b2\"]\n",
    "    \n",
    "    for i in range(0,num_iterations):\n",
    "        A2,cache=forward_propagation(X,parameters)\n",
    "        cost=compute_cost(A2,Y)\n",
    "        grads=backward_propagation(parameters,cache,X,Y)\n",
    "        parameters=update_parameters(parameters,grads,learning_rate=1.2)\n",
    "        \n",
    "        if print_cost and i%1000==0:\n",
    "            print(\"Cost after iteration %i: %f\"%(i,cost))\n",
    "    \n",
    "    return parameters"
   ]
  },
  {
   "cell_type": "code",
   "execution_count": 120,
   "id": "028314a5",
   "metadata": {},
   "outputs": [],
   "source": [
    "def create_dataset():\n",
    "    np.random.seed(1)\n",
    "    \n",
    "    m=400\n",
    "    N=int(m/2)\n",
    "    D=2\n",
    "    X=np.zeros((m,D))\n",
    "    Y=np.zeros((m,1),dtype='uint8')\n",
    "    a=4\n",
    "    for j in range(2):\n",
    "        ix=range(N*j,N*(j+1))\n",
    "        t=np.linspace(j*3.12,(j+1)*3.12,N)+np.random.randn(N)*0.2\n",
    "        r=a*np.sin(4*t)+np.random.randn(N)*0.2\n",
    "        X[ix]=np.c_[r*np.sin(t),r*np.cos(t)]\n",
    "        Y[ix]=j\n",
    "    \n",
    "    X=X.T\n",
    "    Y=Y.T\n",
    "    return X,Y"
   ]
  },
  {
   "cell_type": "code",
   "execution_count": 121,
   "id": "fadb83a8",
   "metadata": {},
   "outputs": [
    {
     "name": "stdout",
     "output_type": "stream",
     "text": [
      "Cost after iteration 0: 0.693162\n",
      "Cost after iteration 1000: 0.258625\n",
      "Cost after iteration 2000: 0.239334\n",
      "Cost after iteration 3000: 0.230802\n",
      "Cost after iteration 4000: 0.225528\n",
      "Cost after iteration 5000: 0.221845\n",
      "Cost after iteration 6000: 0.219094\n",
      "Cost after iteration 7000: 0.220671\n",
      "Cost after iteration 8000: 0.219411\n",
      "Cost after iteration 9000: 0.218486\n"
     ]
    }
   ],
   "source": [
    "import numpy as np\n",
    "X,Y=create_dataset()\n",
    "parameters=nn_model(X,Y,n_h=4,num_iterations=10000,print_cost=True)"
   ]
  },
  {
   "cell_type": "code",
   "execution_count": null,
   "id": "349b4da2",
   "metadata": {},
   "outputs": [],
   "source": []
  }
 ],
 "metadata": {
  "kernelspec": {
   "display_name": "Python 3 (ipykernel)",
   "language": "python",
   "name": "python3"
  },
  "language_info": {
   "codemirror_mode": {
    "name": "ipython",
    "version": 3
   },
   "file_extension": ".py",
   "mimetype": "text/x-python",
   "name": "python",
   "nbconvert_exporter": "python",
   "pygments_lexer": "ipython3",
   "version": "3.9.12"
  }
 },
 "nbformat": 4,
 "nbformat_minor": 5
}
