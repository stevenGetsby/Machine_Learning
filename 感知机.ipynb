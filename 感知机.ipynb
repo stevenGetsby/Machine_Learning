{
 "cells": [
  {
   "cell_type": "code",
   "execution_count": 14,
   "id": "f5593935",
   "metadata": {},
   "outputs": [],
   "source": [
    "import numpy as np\n",
    "\n",
    "def sign(x,w,b):\n",
    "    return np.dot(x,w)+b\n",
    "\n",
    "def initialize_parameters(dim):\n",
    "    w=np.zeros(dim)\n",
    "    b=0.0\n",
    "    return w,b"
   ]
  },
  {
   "cell_type": "code",
   "execution_count": 15,
   "id": "219d1abc",
   "metadata": {},
   "outputs": [],
   "source": [
    "def perceptron_train(X_train,y_train,learning_rate):\n",
    "    \n",
    "    w,b=initialize_parameters(X_train.shape[1])\n",
    "    \n",
    "    is_wrong=False\n",
    "    \n",
    "    while not is_wrong:\n",
    "        \n",
    "        wrong_count=0\n",
    "        \n",
    "        for i in range(len(X_train)):\n",
    "            X=X_train[i]\n",
    "            y=y_train[i]\n",
    "            \n",
    "            if y*sign(X,w,b)<=0:\n",
    "                w+=learning_rate*np.dot(y,X)\n",
    "                b+=learning_rate*y\n",
    "                wrong_count+=1\n",
    "        if wrong_count==0:\n",
    "            is_wrong=True\n",
    "            print('There is no missclassification')\n",
    "            \n",
    "        params={\n",
    "            'w':w,\n",
    "            'b':b\n",
    "        }\n",
    "    \n",
    "    return params"
   ]
  },
  {
   "cell_type": "code",
   "execution_count": 16,
   "id": "c30e4042",
   "metadata": {},
   "outputs": [
    {
     "name": "stdout",
     "output_type": "stream",
     "text": [
      "(100, 2) (100,)\n"
     ]
    }
   ],
   "source": [
    "import pandas as pd\n",
    "from sklearn.datasets import load_iris\n",
    "\n",
    "iris=load_iris()\n",
    "\n",
    "df=pd.DataFrame(iris.data,columns=iris.feature_names)\n",
    "df['label']=iris.target\n",
    "df.columns=['speal length','speal width','petal length','petal width','label']\n",
    "\n",
    "data=np.array(df.iloc[:100,[0,1,-1]])\n",
    "X,y=data[:,:-1],data[:,-1]\n",
    "y=np.array([1 if i==1 else  -1 for i in y])\n",
    "\n",
    "print(X.shape,y.shape)"
   ]
  },
  {
   "cell_type": "code",
   "execution_count": 17,
   "id": "c1eb9c26",
   "metadata": {},
   "outputs": [
    {
     "name": "stdout",
     "output_type": "stream",
     "text": [
      "There is no missclassification\n",
      "{'w': array([ 0.79 , -1.007]), 'b': -1.2400000000000009}\n"
     ]
    }
   ],
   "source": [
    "params= perceptron_train(X,y,0.01)\n",
    "print(params)"
   ]
  },
  {
   "cell_type": "code",
   "execution_count": 18,
   "id": "a109fce7",
   "metadata": {},
   "outputs": [
    {
     "data": {
      "image/png": "[encoded data removed]",
      "text/plain": [
       "<Figure size 432x288 with 1 Axes>"
      ]
     },
     "metadata": {
      "needs_background": "light"
     },
     "output_type": "display_data"
    }
   ],
   "source": [
    "import matplotlib.pyplot as plt\n",
    "x_points=np.linspace(4,7,10)\n",
    "y_hat=-(params['w'][0]*x_points + params['b'])/params['w'][1]\n",
    "plt.plot(x_points,y_hat)\n",
    "plt.scatter(data[:50,0],data[:50,1],color='red',label='0')\n",
    "plt.scatter(data[50:100,0],data[50:100,1],color='green',label='1')\n",
    "plt.xlabel('sepal length')\n",
    "plt.ylabel('sepal width')\n",
    "\n",
    "plt.legend()\n",
    "plt.show()"
   ]
  },
  {
   "cell_type": "code",
   "execution_count": null,
   "id": "3317fc0a",
   "metadata": {},
   "outputs": [],
   "source": []
  }
 ],
 "metadata": {
  "kernelspec": {
   "display_name": "Python 3 (ipykernel)",
   "language": "python",
   "name": "python3"
  },
  "language_info": {
   "codemirror_mode": {
    "name": "ipython",
    "version": 3
   },
   "file_extension": ".py",
   "mimetype": "text/x-python",
   "name": "python",
   "nbconvert_exporter": "python",
   "pygments_lexer": "ipython3",
   "version": "3.9.12"
  }
 },
 "nbformat": 4,
 "nbformat_minor": 5
}
